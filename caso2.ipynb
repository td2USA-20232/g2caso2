{
 "cells": [
  {
   "cell_type": "code",
   "execution_count": 28,
   "metadata": {},
   "outputs": [],
   "source": [
    "import numpy as np\n",
    "import pandas as pd \n",
    "import seaborn as sns\n",
    "import matplotlib.pyplot as plt\n",
    "import statsmodels.api as sm\n",
    "from scipy import stats"
   ]
  },
  {
   "cell_type": "code",
   "execution_count": 29,
   "metadata": {},
   "outputs": [
    {
     "name": "stdout",
     "output_type": "stream",
     "text": [
      "         Label           Brand                                           Name  \\\n",
      "0  Moisturizer          LA MER                                Crème de la Mer   \n",
      "1  Moisturizer           SK-II                       Facial Treatment Essence   \n",
      "2  Moisturizer  DRUNK ELEPHANT                     Protini™ Polypeptide Cream   \n",
      "3  Moisturizer          LA MER                    The Moisturizing Soft Cream   \n",
      "4  Moisturizer    IT COSMETICS  Your Skin But Better™ CC+™ Cream with SPF 50+   \n",
      "\n",
      "  Cost Revenue   Price  Utility  Rank  Combination  Dry  ...  Unnamed: 991  \\\n",
      "0  175    0.15  201.25    26.25   4.1          1.0  1.0  ...           NaN   \n",
      "1  179    0.13  202.27    23.27   4.1          1.0  1.0  ...           NaN   \n",
      "2   68    0.12   76.16     8.16   4.4          1.0  1.0  ...           NaN   \n",
      "3  175    0.12  196.00    21.00   3.8          1.0  1.0  ...           NaN   \n",
      "4   38    0.09   41.42     3.42   4.1          1.0  1.0  ...           NaN   \n",
      "\n",
      "   Unnamed: 992  Unnamed: 993  Unnamed: 994  Unnamed: 995  Unnamed: 996  \\\n",
      "0           NaN           NaN           NaN           NaN           NaN   \n",
      "1           NaN           NaN           NaN           NaN           NaN   \n",
      "2           NaN           NaN           NaN           NaN           NaN   \n",
      "3           NaN           NaN           NaN           NaN           NaN   \n",
      "4           NaN           NaN           NaN           NaN           NaN   \n",
      "\n",
      "   Unnamed: 997  Unnamed: 998  Unnamed: 999  Unnamed: 1000  \n",
      "0           NaN           NaN           NaN            NaN  \n",
      "1           NaN           NaN           NaN            NaN  \n",
      "2           NaN           NaN           NaN            NaN  \n",
      "3           NaN           NaN           NaN            NaN  \n",
      "4           NaN           NaN           NaN            NaN  \n",
      "\n",
      "[5 rows x 1001 columns]\n"
     ]
    },
    {
     "name": "stderr",
     "output_type": "stream",
     "text": [
      "C:\\Users\\acer\\AppData\\Local\\Temp\\ipykernel_4132\\1757755306.py:2: DtypeWarning: Columns (4) have mixed types. Specify dtype option on import or set low_memory=False.\n",
      "  df = pd.read_csv(\"data.csv\")\n"
     ]
    }
   ],
   "source": [
    "#Importar data\n",
    "df = pd.read_csv(\"data.csv\")\n",
    "print(df.head())"
   ]
  },
  {
   "cell_type": "code",
   "execution_count": 30,
   "metadata": {},
   "outputs": [],
   "source": [
    "# Seleccionar todas las filas y las columnas hasta 'Sensitive' (inclusive)\n",
    "new_df = df.iloc[:, :df.columns.get_loc('Sensitive')+1]"
   ]
  },
  {
   "cell_type": "code",
   "execution_count": 31,
   "metadata": {},
   "outputs": [
    {
     "name": "stdout",
     "output_type": "stream",
     "text": [
      "            Label                          Brand  \\\n",
      "0     Moisturizer                         LA MER   \n",
      "1     Moisturizer                          SK-II   \n",
      "2     Moisturizer                 DRUNK ELEPHANT   \n",
      "3     Moisturizer                         LA MER   \n",
      "4     Moisturizer                   IT COSMETICS   \n",
      "...           ...                            ...   \n",
      "1467  Sun protect                         KORRES   \n",
      "1468  Sun protect                KATE SOMERVILLE   \n",
      "1469  Sun protect                  VITA LIBERATA   \n",
      "1470  Sun protect  ST. TROPEZ TANNING ESSENTIALS   \n",
      "1471  Sun protect                     DERMAFLASH   \n",
      "\n",
      "                                                   Name Cost Revenue   Price  \\\n",
      "0                                       Crème de la Mer  175    0.15  201.25   \n",
      "1                              Facial Treatment Essence  179    0.13  202.27   \n",
      "2                            Protini™ Polypeptide Cream   68    0.12   76.16   \n",
      "3                           The Moisturizing Soft Cream  175    0.12  196.00   \n",
      "4         Your Skin But Better™ CC+™ Cream with SPF 50+   38    0.09   41.42   \n",
      "...                                                 ...  ...     ...     ...   \n",
      "1467  Yoghurt Nourishing Fluid Veil Face Sunscreen B...   35     0.1   38.50   \n",
      "1468  Daily Deflector™ Waterlight Broad Spectrum SPF...   48    0.11   53.28   \n",
      "1469                            Self Tan Dry Oil SPF 50   54     0.1   59.40   \n",
      "1470                   Pro Light Self Tan Bronzing Mist   20    0.11   22.20   \n",
      "1471  DERMAPROTECT Daily Defense Broad Spectrum SPF 50+   45    0.11   49.95   \n",
      "\n",
      "      Utility  Rank  Combination  Dry  Normal  Oily  Sensitive  \n",
      "0       26.25   4.1          1.0  1.0     1.0   1.0        1.0  \n",
      "1       23.27   4.1          1.0  1.0     1.0   1.0        1.0  \n",
      "2        8.16   4.4          1.0  1.0     1.0   1.0        0.0  \n",
      "3       21.00   3.8          1.0  1.0     1.0   1.0        1.0  \n",
      "4        3.42   4.1          1.0  1.0     1.0   1.0        1.0  \n",
      "...       ...   ...          ...  ...     ...   ...        ...  \n",
      "1467     3.50   3.9          1.0  1.0     1.0   1.0        1.0  \n",
      "1468     5.28   3.6          0.0  0.0     0.0   0.0        0.0  \n",
      "1469     5.40   3.5          0.0  0.0     0.0   0.0        0.0  \n",
      "1470     2.20   1.0          0.0  0.0     0.0   0.0        0.0  \n",
      "1471     4.95   0.0          1.0  1.0     1.0   1.0        1.0  \n",
      "\n",
      "[1472 rows x 13 columns]\n"
     ]
    },
    {
     "name": "stderr",
     "output_type": "stream",
     "text": [
      "C:\\Users\\acer\\AppData\\Local\\Temp\\ipykernel_4132\\1499231548.py:2: DtypeWarning: Columns (4) have mixed types. Specify dtype option on import or set low_memory=False.\n",
      "  df = pd.read_csv(\"data.csv\")\n"
     ]
    }
   ],
   "source": [
    "# Leer el archivo CSV en un DataFrame\n",
    "df = pd.read_csv(\"data.csv\")\n",
    "\n",
    "# Seleccionar todas las filas y las columnas hasta 'Sensitive' (inclusive)\n",
    "new_df = df.iloc[:, :df.columns.get_loc('Sensitive')+1]\n",
    "\n",
    "# Mostrar el nuevo DataFrame\n",
    "print(new_df)"
   ]
  },
  {
   "cell_type": "code",
   "execution_count": 32,
   "metadata": {},
   "outputs": [
    {
     "name": "stdout",
     "output_type": "stream",
     "text": [
      "            Label                          Brand  \\\n",
      "0     Moisturizer                         LA MER   \n",
      "1     Moisturizer                          SK-II   \n",
      "2     Moisturizer                 DRUNK ELEPHANT   \n",
      "3     Moisturizer                         LA MER   \n",
      "4     Moisturizer                   IT COSMETICS   \n",
      "...           ...                            ...   \n",
      "1467  Sun protect                         KORRES   \n",
      "1468  Sun protect                KATE SOMERVILLE   \n",
      "1469  Sun protect                  VITA LIBERATA   \n",
      "1470  Sun protect  ST. TROPEZ TANNING ESSENTIALS   \n",
      "1471  Sun protect                     DERMAFLASH   \n",
      "\n",
      "                                                   Name Cost Revenue   Price  \\\n",
      "0                                       Crème de la Mer  175    0.15  201.25   \n",
      "1                              Facial Treatment Essence  179    0.13  202.27   \n",
      "2                            Protini™ Polypeptide Cream   68    0.12   76.16   \n",
      "3                           The Moisturizing Soft Cream  175    0.12  196.00   \n",
      "4         Your Skin But Better™ CC+™ Cream with SPF 50+   38    0.09   41.42   \n",
      "...                                                 ...  ...     ...     ...   \n",
      "1467  Yoghurt Nourishing Fluid Veil Face Sunscreen B...   35     0.1   38.50   \n",
      "1468  Daily Deflector™ Waterlight Broad Spectrum SPF...   48    0.11   53.28   \n",
      "1469                            Self Tan Dry Oil SPF 50   54     0.1   59.40   \n",
      "1470                   Pro Light Self Tan Bronzing Mist   20    0.11   22.20   \n",
      "1471  DERMAPROTECT Daily Defense Broad Spectrum SPF 50+   45    0.11   49.95   \n",
      "\n",
      "      Utility  Rank  Combination  Dry  Normal  Oily  Sensitive  \n",
      "0       26.25   4.1          1.0  1.0     1.0   1.0        1.0  \n",
      "1       23.27   4.1          1.0  1.0     1.0   1.0        1.0  \n",
      "2        8.16   4.4          1.0  1.0     1.0   1.0        0.0  \n",
      "3       21.00   3.8          1.0  1.0     1.0   1.0        1.0  \n",
      "4        3.42   4.1          1.0  1.0     1.0   1.0        1.0  \n",
      "...       ...   ...          ...  ...     ...   ...        ...  \n",
      "1467     3.50   3.9          1.0  1.0     1.0   1.0        1.0  \n",
      "1468     5.28   3.6          0.0  0.0     0.0   0.0        0.0  \n",
      "1469     5.40   3.5          0.0  0.0     0.0   0.0        0.0  \n",
      "1470     2.20   1.0          0.0  0.0     0.0   0.0        0.0  \n",
      "1471     4.95   0.0          1.0  1.0     1.0   1.0        1.0  \n",
      "\n",
      "[1472 rows x 13 columns]\n"
     ]
    }
   ],
   "source": [
    "print(new_df)"
   ]
  },
  {
   "cell_type": "code",
   "execution_count": 33,
   "metadata": {},
   "outputs": [
    {
     "name": "stdout",
     "output_type": "stream",
     "text": [
      "Tipos de datos de las columnas:\n",
      "Label           object\n",
      "Brand           object\n",
      "Name            object\n",
      "Cost            object\n",
      "Revenue         object\n",
      "Price          float64\n",
      "Utility        float64\n",
      "Rank           float64\n",
      "Combination    float64\n",
      "Dry            float64\n",
      "Normal         float64\n",
      "Oily           float64\n",
      "Sensitive      float64\n",
      "dtype: object\n"
     ]
    }
   ],
   "source": [
    "# Revisamos los tipos de variables que se encuentran en el data frame \n",
    "data_types = new_df.dtypes\n",
    "\n",
    "print(\"Tipos de datos de las columnas:\")\n",
    "print(data_types)"
   ]
  },
  {
   "cell_type": "code",
   "execution_count": 34,
   "metadata": {},
   "outputs": [
    {
     "name": "stdout",
     "output_type": "stream",
     "text": [
      "Tipos de datos de las columnas:\n",
      "Label           object\n",
      "Brand           object\n",
      "Name            object\n",
      "Cost            object\n",
      "Revenue        float64\n",
      "Price          float64\n",
      "Utility        float64\n",
      "Rank           float64\n",
      "Combination    float64\n",
      "Dry            float64\n",
      "Normal         float64\n",
      "Oily           float64\n",
      "Sensitive      float64\n",
      "dtype: object\n"
     ]
    }
   ],
   "source": [
    "#Al ravisar la data, nos damos cuenta que la variable \"Revenue\" es una variable de tipo objeto por lo cual tenemos que cambiarla a float.\n",
    "#  # Limpia los valores reemplazando comas y otros caracteres no numéricos\n",
    "new_df['Revenue'] = new_df['Revenue'].str.replace(',', '').str.replace('$', '')\n",
    "\n",
    "# Intenta convertir la columna a tipo numérico\n",
    "new_df['Revenue'] = pd.to_numeric(new_df['Revenue'], errors='coerce')\n",
    "\n",
    "# Multiplica por 100 para convertir a porcentajes\n",
    "new_df['Revenue'] = new_df['Revenue'] * 100\n",
    "\n",
    "# Verifica los tipos de datos nuevamente\n",
    "data_types = new_df.dtypes\n",
    "print(\"Tipos de datos de las columnas:\")\n",
    "print(data_types)"
   ]
  },
  {
   "cell_type": "code",
   "execution_count": 35,
   "metadata": {},
   "outputs": [
    {
     "name": "stdout",
     "output_type": "stream",
     "text": [
      "Tipos de datos de las columnas:\n",
      "Label           object\n",
      "Brand           object\n",
      "Name            object\n",
      "Cost           float64\n",
      "Revenue        float64\n",
      "Price          float64\n",
      "Utility        float64\n",
      "Rank           float64\n",
      "Combination    float64\n",
      "Dry            float64\n",
      "Normal         float64\n",
      "Oily           float64\n",
      "Sensitive      float64\n",
      "dtype: object\n"
     ]
    }
   ],
   "source": [
    "\n",
    "#Al ravisar la data, nos damos cuenta que la variable \"Cost\" es una variable de tipo objeto por lo cual tenemos que cambiarla a float.#Al ravisar la data, nos damos cuenta que la variable \"Revenue\" es una variable de tipo objeto por lo cual tenemos que cambiarla a float.\n",
    "# Limpia los valores reemplazando comas y otros caracteres no numéricos\n",
    "new_df['Cost'] = new_df['Cost'].str.replace(',', '').str.replace('$', '')\n",
    "\n",
    "# Intenta convertir la columna a tipo numérico\n",
    "new_df['Cost'] = pd.to_numeric(new_df['Cost'], errors='coerce')\n",
    "\n",
    "# Multiplica por 100 para convertir a porcentajes\n",
    "new_df['Cost'] = new_df['Cost'] * 100\n",
    "\n",
    "# Verifica los tipos de datos nuevamente\n",
    "data_types = new_df.dtypes\n",
    "print(\"Tipos de datos de las columnas:\")\n",
    "print(data_types)"
   ]
  },
  {
   "cell_type": "code",
   "execution_count": 36,
   "metadata": {},
   "outputs": [
    {
     "name": "stdout",
     "output_type": "stream",
     "text": [
      "         Label           Brand                                           Name  \\\n",
      "0  Moisturizer          LA MER                                Crème de la Mer   \n",
      "1  Moisturizer           SK-II                       Facial Treatment Essence   \n",
      "2  Moisturizer  DRUNK ELEPHANT                     Protini™ Polypeptide Cream   \n",
      "3  Moisturizer          LA MER                    The Moisturizing Soft Cream   \n",
      "4  Moisturizer    IT COSMETICS  Your Skin But Better™ CC+™ Cream with SPF 50+   \n",
      "\n",
      "      Cost  Revenue   Price  Utility  Rank  Combination  Dry  Normal  Oily  \\\n",
      "0  17500.0      NaN  201.25    26.25   4.1          1.0  1.0     1.0   1.0   \n",
      "1  17900.0      NaN  202.27    23.27   4.1          1.0  1.0     1.0   1.0   \n",
      "2   6800.0      NaN   76.16     8.16   4.4          1.0  1.0     1.0   1.0   \n",
      "3  17500.0      NaN  196.00    21.00   3.8          1.0  1.0     1.0   1.0   \n",
      "4   3800.0      NaN   41.42     3.42   4.1          1.0  1.0     1.0   1.0   \n",
      "\n",
      "   Sensitive  Label_Eye cream  Label_Face Mask  Label_Moisturizer  \\\n",
      "0        1.0            False            False               True   \n",
      "1        1.0            False            False               True   \n",
      "2        0.0            False            False               True   \n",
      "3        1.0            False            False               True   \n",
      "4        1.0            False            False               True   \n",
      "\n",
      "   Label_Sun protect  Label_Treatment  \n",
      "0              False            False  \n",
      "1              False            False  \n",
      "2              False            False  \n",
      "3              False            False  \n",
      "4              False            False  \n"
     ]
    }
   ],
   "source": [
    "#Creamos variables dummies para la categoria label ya que estos datos pertenecen a 5 categorias diferentes \n",
    "dummies_l = pd.get_dummies(df['Label'], prefix='Label', drop_first=True)\n",
    "\n",
    "# Concatenar dummies al DataFrame original\n",
    "new_df = pd.concat([new_df, dummies_l], axis=1)\n",
    "\n",
    "# Mostrar el dataset con las columnas dummies añadidas.\n",
    "print(new_df.head())"
   ]
  },
  {
   "cell_type": "code",
   "execution_count": 37,
   "metadata": {},
   "outputs": [
    {
     "name": "stdout",
     "output_type": "stream",
     "text": [
      "         Label           Brand                                           Name  \\\n",
      "0  Moisturizer          LA MER                                Crème de la Mer   \n",
      "1  Moisturizer           SK-II                       Facial Treatment Essence   \n",
      "2  Moisturizer  DRUNK ELEPHANT                     Protini™ Polypeptide Cream   \n",
      "3  Moisturizer          LA MER                    The Moisturizing Soft Cream   \n",
      "4  Moisturizer    IT COSMETICS  Your Skin But Better™ CC+™ Cream with SPF 50+   \n",
      "\n",
      "      Cost  Revenue   Price  Utility  Rank  Combination  Dry  Normal  Oily  \\\n",
      "0  17500.0      NaN  201.25    26.25   4.1          1.0  1.0     1.0   1.0   \n",
      "1  17900.0      NaN  202.27    23.27   4.1          1.0  1.0     1.0   1.0   \n",
      "2   6800.0      NaN   76.16     8.16   4.4          1.0  1.0     1.0   1.0   \n",
      "3  17500.0      NaN  196.00    21.00   3.8          1.0  1.0     1.0   1.0   \n",
      "4   3800.0      NaN   41.42     3.42   4.1          1.0  1.0     1.0   1.0   \n",
      "\n",
      "   Sensitive  Label_Eye cream  Label_Face Mask  Label_Moisturizer  \\\n",
      "0        1.0                0                0                  1   \n",
      "1        1.0                0                0                  1   \n",
      "2        0.0                0                0                  1   \n",
      "3        1.0                0                0                  1   \n",
      "4        1.0                0                0                  1   \n",
      "\n",
      "   Label_Sun protect  Label_Treatment  \n",
      "0                  0                0  \n",
      "1                  0                0  \n",
      "2                  0                0  \n",
      "3                  0                0  \n",
      "4                  0                0  \n"
     ]
    }
   ],
   "source": [
    "# Nombres y cantidad de columnas dummies\n",
    "dummies_columns = ['Label_Eye cream', 'Label_Face Mask', 'Label_Moisturizer', 'Label_Sun protect','Label_Treatment']\n",
    "\n",
    "# Convierte las columnas de dummies en 0 y 1\n",
    "for col in dummies_columns:\n",
    "    new_df[col] = new_df[col].astype(int)\n",
    "print(new_df.head())"
   ]
  },
  {
   "cell_type": "code",
   "execution_count": 38,
   "metadata": {},
   "outputs": [],
   "source": [
    "#Eliminamos estas columnas ya que generan problemas en la regresion\n",
    "columns_to_drop = ['Label_Moisturizer', 'Label_Treatment']\n",
    "new_df.drop(columns=columns_to_drop, inplace=True)"
   ]
  },
  {
   "cell_type": "code",
   "execution_count": 39,
   "metadata": {},
   "outputs": [],
   "source": [
    "new_df = new_df.dropna()"
   ]
  },
  {
   "cell_type": "code",
   "execution_count": 40,
   "metadata": {},
   "outputs": [
    {
     "name": "stdout",
     "output_type": "stream",
     "text": [
      "Dimensión de X: (440, 11)\n",
      "Dimensión de y: (440,)\n",
      "                            OLS Regression Results                            \n",
      "==============================================================================\n",
      "Dep. Variable:                  Price   R-squared:                       0.078\n",
      "Model:                            OLS   Adj. R-squared:                  0.058\n",
      "Method:                 Least Squares   F-statistic:                     4.025\n",
      "Date:                Tue, 05 Sep 2023   Prob (F-statistic):           5.81e-05\n",
      "Time:                        19:39:24   Log-Likelihood:                -2274.7\n",
      "No. Observations:                 440   AIC:                             4569.\n",
      "Df Residuals:                     430   BIC:                             4610.\n",
      "Df Model:                           9                                         \n",
      "Covariance Type:            nonrobust                                         \n",
      "=====================================================================================\n",
      "                        coef    std err          t      P>|t|      [0.025      0.975]\n",
      "-------------------------------------------------------------------------------------\n",
      "const                31.7767     11.496      2.764      0.006       9.181      54.373\n",
      "Revenue               0.2030      0.908      0.223      0.823      -1.583       1.989\n",
      "Rank                  3.9703      2.877      1.380      0.168      -1.685       9.625\n",
      "Combination         -37.5927     19.256     -1.952      0.052     -75.441       0.255\n",
      "Dry                  13.0076     11.304      1.151      0.250      -9.209      35.225\n",
      "Normal               26.3953     20.067      1.315      0.189     -13.045      65.836\n",
      "Oily                 -1.7507      8.979     -0.195      0.846     -19.400      15.898\n",
      "Sensitive            -6.2565      6.738     -0.929      0.354     -19.500       6.987\n",
      "Label_Eye cream      24.7658      4.435      5.584      0.000      16.049      33.483\n",
      "Label_Face Mask       2.5636      5.607      0.457      0.648      -8.458      13.585\n",
      "Label_Sun protect     4.4473      5.041      0.882      0.378      -5.460      14.355\n",
      "==============================================================================\n",
      "Omnibus:                      289.506   Durbin-Watson:                   2.091\n",
      "Prob(Omnibus):                  0.000   Jarque-Bera (JB):             2627.062\n",
      "Skew:                           2.821   Prob(JB):                         0.00\n",
      "Kurtosis:                      13.558   Cond. No.                     2.62e+16\n",
      "==============================================================================\n",
      "\n",
      "Notes:\n",
      "[1] Standard Errors assume that the covariance matrix of the errors is correctly specified.\n",
      "[2] The smallest eigenvalue is 9.79e-29. This might indicate that there are\n",
      "strong multicollinearity problems or that the design matrix is singular.\n"
     ]
    }
   ],
   "source": [
    "# Variables independientes y variable dependiente\n",
    "X = new_df[['Revenue','Rank', 'Combination', 'Dry', 'Normal', 'Oily', 'Sensitive', 'Label_Eye cream', 'Label_Face Mask', 'Label_Sun protect']]\n",
    "X = sm.add_constant(X)  # Agregar una constante (intercepto) b0\n",
    "y = new_df['Price']\n",
    "\n",
    "# x=matrices, y=vectores\n",
    "print(\"Dimensión de X:\", X.shape)\n",
    "print(\"Dimensión de y:\", y.shape)\n",
    "\n",
    "# Ajuste al modelo de regresión lineal\n",
    "modelo = sm.OLS(y, X).fit()\n",
    "\n",
    "# Muestra y obtención de resultados de la regresión realizada\n",
    "resultados = modelo.summary()\n",
    "\n",
    "print(resultados)"
   ]
  }
 ],
 "metadata": {
  "kernelspec": {
   "display_name": "Python 3",
   "language": "python",
   "name": "python3"
  },
  "language_info": {
   "codemirror_mode": {
    "name": "ipython",
    "version": 3
   },
   "file_extension": ".py",
   "mimetype": "text/x-python",
   "name": "python",
   "nbconvert_exporter": "python",
   "pygments_lexer": "ipython3",
   "version": "3.11.4"
  },
  "orig_nbformat": 4
 },
 "nbformat": 4,
 "nbformat_minor": 2
}
